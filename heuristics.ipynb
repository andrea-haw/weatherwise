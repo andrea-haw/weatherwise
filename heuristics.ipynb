{
  "nbformat": 4,
  "nbformat_minor": 0,
  "metadata": {
    "colab": {
      "provenance": []
    },
    "kernelspec": {
      "name": "python3",
      "display_name": "Python 3"
    },
    "language_info": {
      "name": "python"
    }
  },
  "cells": [
    {
      "cell_type": "code",
      "execution_count": null,
      "metadata": {
        "id": "uI-zdMc-hrYT"
      },
      "outputs": [],
      "source": [
        "warm_to_hot_clothing = ['skirt', 'shorts', 'short sleeve top', 'sling dress','vest',\n",
        "                        'vest dress', 'short sleeve dress', 'sling']\n",
        "warm_clothing = ['short sleeve outwear'] # everything in warm_to_hot plus this\n",
        "cool_clothing = ['trousers', 'long sleeve dress', 'long sleeve top', 'long sleeve outwear']\n"
      ]
    },
    {
      "cell_type": "code",
      "source": [
        "def heuristics_w_temp_range(detected_categories, temperature):\n",
        "    # warm to hot\n",
        "    if temperature <= 30 and temperature >= 25:\n",
        "        print(\"Weather is warm to hot:\")\n",
        "        if isinstance(detected_categories, list): # max two items\n",
        "            for c in detected_categories:\n",
        "                if c in warm_to_hot_clothing:\n",
        "                    print(f\"{c} is suitable for this weather!\")\n",
        "                else:\n",
        "                    print(f\"{c} may not be suitable. Consider changing.\")\n",
        "        else:\n",
        "            if c in warm_to_hot_clothing:\n",
        "                print(f\"{c} is suitable for this weather!\")\n",
        "            else:\n",
        "                print(f\"{c} may not be suitable. Consider changing.\")\n",
        "    elif temperature < 25 and temperature >= 20:\n",
        "        print(\"Weather is warm:\")\n",
        "        if isinstance(detected_categories, list): # max two items\n",
        "            for c in detected_categories:\n",
        "                if c in warm_to_hot_clothing or c in warm_clothing:\n",
        "                    print(f\"{c} is suitable for this weather!\")\n",
        "                else:\n",
        "                    print(f\"{c} may not be suitable. Consider changing.\")\n",
        "        else:\n",
        "            if c in warm_to_hot_clothing or c in warm_clothing:\n",
        "                print(f\"{c} is suitable for this weather!\")\n",
        "            else:\n",
        "                print(f\"{c} may not be suitable. Consider changing.\")\n",
        "    elif temperature < 20 and temperature >= 15:\n",
        "        print(\"Weather is cool:\")\n",
        "        if isinstance(detected_categories, list): # max two items\n",
        "            for c in detected_categories:\n",
        "                if c in cool_clothing:\n",
        "                    print(f\"{c} is suitable for this weather!\")\n",
        "                else:\n",
        "                    print(f\"{c} may not be suitable. Consider changing.\")\n",
        "        else:\n",
        "            if c in cool_clothing:\n",
        "                print(f\"{c} is suitable for this weather!\")\n",
        "            else:\n",
        "                print(f\"{c} may not be suitable. Consider changing.\")\n",
        "    else:\n",
        "        print(\"Invalid temperature range! Enter temperature between 15 to 30 degrees celsius\")\n"
      ],
      "metadata": {
        "id": "vX9H85A9zZQX"
      },
      "execution_count": null,
      "outputs": []
    },
    {
      "cell_type": "code",
      "source": [
        "detected_categories = ['shorts', 'short sleeve top']\n",
        "temperature = 20\n",
        "heuristics_w_temp_range(detected_categories, temperature)"
      ],
      "metadata": {
        "colab": {
          "base_uri": "https://localhost:8080/"
        },
        "id": "F3j6ZInH2Non",
        "outputId": "1f0d4402-1b7d-4b1f-e74f-6c5fca9aa9b3"
      },
      "execution_count": null,
      "outputs": [
        {
          "output_type": "stream",
          "name": "stdout",
          "text": [
            "Weather is warm:\n",
            "shorts is suitable for this weather!\n",
            "short sleeve top is suitable for this weather!\n"
          ]
        }
      ]
    },
    {
      "cell_type": "code",
      "source": [],
      "metadata": {
        "id": "5ckLhk7K3BT5"
      },
      "execution_count": null,
      "outputs": []
    }
  ]
}