{
  "nbformat": 4,
  "nbformat_minor": 0,
  "metadata": {
    "colab": {
      "provenance": []
    },
    "kernelspec": {
      "name": "python3",
      "display_name": "Python 3"
    },
    "language_info": {
      "name": "python"
    }
  },
  "cells": [
    {
      "cell_type": "code",
      "execution_count": 1,
      "metadata": {
        "id": "qgZgzRvdIvNW"
      },
      "outputs": [],
      "source": [
        "import numpy as np\n",
        "import os\n",
        "import json\n",
        "import torch\n",
        "from torch.utils.data import Dataset\n",
        "import torchvision.transforms as transforms"
      ]
    },
    {
      "cell_type": "code",
      "source": [
        "from google.colab import drive\n",
        "drive.mount('/content/drive', force_remount=True)"
      ],
      "metadata": {
        "colab": {
          "base_uri": "https://localhost:8080/"
        },
        "id": "oFHKgZ8dI1Fv",
        "outputId": "d01c955a-eb7b-4f14-db50-19ef7ce72f23"
      },
      "execution_count": 3,
      "outputs": [
        {
          "output_type": "stream",
          "name": "stdout",
          "text": [
            "Mounted at /content/drive\n"
          ]
        }
      ]
    },
    {
      "cell_type": "markdown",
      "source": [
        "## Load Final Model (YOLOv5 from Experiment 3)"
      ],
      "metadata": {
        "id": "xEPWfcJRKJxy"
      }
    },
    {
      "cell_type": "code",
      "source": [
        "%cd /content/drive/My Drive\n",
        "# !pip install ultralytics\n",
        "model = torch.hub.load('ultralytics/yolov5', 'custom', path='yolov5/runs/train/exp2/weights/best.pt', force_reload=True)"
      ],
      "metadata": {
        "colab": {
          "base_uri": "https://localhost:8080/"
        },
        "id": "Kt063DAAI4sc",
        "outputId": "59b9b1cc-0930-41c1-ce5e-0498d05b48eb"
      },
      "execution_count": 6,
      "outputs": [
        {
          "output_type": "stream",
          "name": "stdout",
          "text": [
            "/content/drive/My Drive\n"
          ]
        },
        {
          "output_type": "stream",
          "name": "stderr",
          "text": [
            "Downloading: \"https://github.com/ultralytics/yolov5/zipball/master\" to /root/.cache/torch/hub/master.zip\n",
            "YOLOv5 🚀 2024-4-6 Python-3.10.12 torch-2.2.1+cu121 CPU\n",
            "\n",
            "Fusing layers... \n",
            "Model summary: 157 layers, 7045186 parameters, 0 gradients, 15.9 GFLOPs\n",
            "Adding AutoShape... \n"
          ]
        }
      ]
    },
    {
      "cell_type": "markdown",
      "source": [
        "## Heuristics"
      ],
      "metadata": {
        "id": "FV-OmQONKHUh"
      }
    },
    {
      "cell_type": "code",
      "source": [
        "warm_to_hot_clothing = ['skirt', 'shorts', 'short sleeve top', 'sling dress','vest',\n",
        "                        'vest dress', 'short sleeve dress', 'sling']\n",
        "warm_clothing = ['short sleeve outwear'] # everything in warm_to_hot plus this\n",
        "cool_clothing = ['trousers', 'long sleeve dress', 'long sleeve top', 'long sleeve outwear']"
      ],
      "metadata": {
        "id": "epmRRnSeJ0xi"
      },
      "execution_count": 7,
      "outputs": []
    },
    {
      "cell_type": "code",
      "source": [
        "def heuristics_w_temp_range(detected_categories, temperature):\n",
        "    # warm to hot\n",
        "    if temperature <= 30 and temperature >= 25:\n",
        "        print(\"Weather is warm to hot:\")\n",
        "        if isinstance(detected_categories, list): # max two items\n",
        "            for c in detected_categories:\n",
        "                if c in warm_to_hot_clothing:\n",
        "                    print(f\"{c} is suitable for this weather!\")\n",
        "                else:\n",
        "                    print(f\"{c} may not be suitable. Consider changing.\")\n",
        "        else:\n",
        "            if c in warm_to_hot_clothing:\n",
        "                print(f\"{c} is suitable for this weather!\")\n",
        "            else:\n",
        "                print(f\"{c} may not be suitable. Consider changing.\")\n",
        "    elif temperature < 25 and temperature >= 20:\n",
        "        print(\"Weather is warm:\")\n",
        "        if isinstance(detected_categories, list): # max two items\n",
        "            for c in detected_categories:\n",
        "                if c in warm_to_hot_clothing or c in warm_clothing:\n",
        "                    print(f\"{c} is suitable for this weather!\")\n",
        "                else:\n",
        "                    print(f\"{c} may not be suitable. Consider changing.\")\n",
        "        else:\n",
        "            if c in warm_to_hot_clothing or c in warm_clothing:\n",
        "                print(f\"{c} is suitable for this weather!\")\n",
        "            else:\n",
        "                print(f\"{c} may not be suitable. Consider changing.\")\n",
        "    elif temperature < 20 and temperature >= 15:\n",
        "        print(\"Weather is cool:\")\n",
        "        if isinstance(detected_categories, list): # max two items\n",
        "            for c in detected_categories:\n",
        "                if c in cool_clothing:\n",
        "                    print(f\"{c} is suitable for this weather!\")\n",
        "                else:\n",
        "                    print(f\"{c} may not be suitable. Consider changing.\")\n",
        "        else:\n",
        "            if c in cool_clothing:\n",
        "                print(f\"{c} is suitable for this weather!\")\n",
        "            else:\n",
        "                print(f\"{c} may not be suitable. Consider changing.\")\n",
        "    else:\n",
        "        print(\"Invalid temperature range! Enter temperature between 15 to 30 degrees celsius\")\n"
      ],
      "metadata": {
        "id": "40h3SGGoJ6_P"
      },
      "execution_count": 8,
      "outputs": []
    },
    {
      "cell_type": "markdown",
      "source": [
        "## Integration of Model and Heuristics"
      ],
      "metadata": {
        "id": "yHmgcbhySgH7"
      }
    },
    {
      "cell_type": "code",
      "source": [
        "def is_outfit_appropriate(image, current_weather):\n",
        "  prediction = model(image)\n",
        "  prediction_str = str(prediction)\n",
        "  start_index = prediction_str.index('352x352') + len('352x352')\n",
        "  end_index = prediction_str.index('Speed')\n",
        "  extracted_string = prediction_str[start_index:end_index].strip()\n",
        "\n",
        "  predictions_list = extracted_string.split(',')\n",
        "  # Process each prediction to extract the class name\n",
        "  classes = [prediction.split(' ')[-2:] for prediction in predictions_list]\n",
        "\n",
        "  # Join the class names into a list\n",
        "  for i in range(len(classes)):\n",
        "    if classes[i][0].isnumeric():\n",
        "      classes[i][0] = ' '\n",
        "  class_names = [' '.join(class_name).strip() for class_name in classes]\n",
        "\n",
        "  heuristics_w_temp_range(class_names, current_weather)\n"
      ],
      "metadata": {
        "id": "_t31MgHkKoK7"
      },
      "execution_count": 66,
      "outputs": []
    },
    {
      "cell_type": "markdown",
      "source": [
        "## Test System"
      ],
      "metadata": {
        "id": "6xlp0kpiSm8q"
      }
    },
    {
      "cell_type": "code",
      "source": [
        "image_ids = ['im2652', 'im26469', 'im5736']\n",
        "temps = [22, 10, 27]\n",
        "test_images_dir = '/content/drive/My Drive/YOLOv5_work/images/test'\n",
        "\n",
        "for i in image_ids:\n",
        "  for j in temps:\n",
        "    image = os.path.join(test_images_dir,  i + '.jpg')\n",
        "    print(f'For {i}, and temperature {j} degrees celsius:')\n",
        "    is_outfit_appropriate(image, j)\n",
        "    print()\n"
      ],
      "metadata": {
        "colab": {
          "base_uri": "https://localhost:8080/"
        },
        "id": "iOF5SHveLNkk",
        "outputId": "13522480-f678-416f-b5e1-72a2991efba8"
      },
      "execution_count": 68,
      "outputs": [
        {
          "output_type": "stream",
          "name": "stdout",
          "text": [
            "For im2652, and temperature 22 degrees celsius:\n",
            "Weather is warm:\n",
            "sleeve outwear may not be suitable. Consider changing.\n",
            "\n",
            "For im2652, and temperature 10 degrees celsius:\n",
            "Invalid temperature range! Enter temperature between 15 to 30 degrees celsius\n",
            "\n",
            "For im2652, and temperature 27 degrees celsius:\n",
            "Weather is warm to hot:\n",
            "sleeve outwear may not be suitable. Consider changing.\n",
            "\n",
            "For im26469, and temperature 22 degrees celsius:\n",
            "Weather is warm:\n",
            "vest is suitable for this weather!\n",
            "\n",
            "For im26469, and temperature 10 degrees celsius:\n",
            "Invalid temperature range! Enter temperature between 15 to 30 degrees celsius\n",
            "\n",
            "For im26469, and temperature 27 degrees celsius:\n",
            "Weather is warm to hot:\n",
            "vest is suitable for this weather!\n",
            "\n",
            "For im5736, and temperature 22 degrees celsius:\n",
            "Weather is warm:\n",
            "skirt is suitable for this weather!\n",
            "vest dress is suitable for this weather!\n",
            "\n",
            "For im5736, and temperature 10 degrees celsius:\n",
            "Invalid temperature range! Enter temperature between 15 to 30 degrees celsius\n",
            "\n",
            "For im5736, and temperature 27 degrees celsius:\n",
            "Weather is warm to hot:\n",
            "skirt is suitable for this weather!\n",
            "vest dress is suitable for this weather!\n",
            "\n"
          ]
        }
      ]
    }
  ]
}